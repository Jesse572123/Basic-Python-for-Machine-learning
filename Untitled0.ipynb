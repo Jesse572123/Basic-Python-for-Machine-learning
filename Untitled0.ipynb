{
  "nbformat": 4,
  "nbformat_minor": 0,
  "metadata": {
    "colab": {
      "provenance": [],
      "authorship_tag": "ABX9TyOHu1ytsSuMb9fm2hjyUIwB",
      "include_colab_link": true
    },
    "kernelspec": {
      "name": "python3",
      "display_name": "Python 3"
    },
    "language_info": {
      "name": "python"
    }
  },
  "cells": [
    {
      "cell_type": "markdown",
      "metadata": {
        "id": "view-in-github",
        "colab_type": "text"
      },
      "source": [
        "<a href=\"https://colab.research.google.com/github/Jesse572123/Basic-Python-for-Machine-learning/blob/main/Untitled0.ipynb\" target=\"_parent\"><img src=\"https://colab.research.google.com/assets/colab-badge.svg\" alt=\"Open In Colab\"/></a>"
      ]
    },
    {
      "cell_type": "markdown",
      "source": [
        "**Introduction To Python**"
      ],
      "metadata": {
        "id": "J-rR8Pp3z48T"
      }
    },
    {
      "cell_type": "markdown",
      "source": [
        "Display Hello World"
      ],
      "metadata": {
        "id": "5byK_kc_0h2C"
      }
    },
    {
      "cell_type": "code",
      "source": [
        "print(\"Hello World\")\n"
      ],
      "metadata": {
        "colab": {
          "base_uri": "https://localhost:8080/"
        },
        "id": "2QuJtyk70nQB",
        "outputId": "e3c7d2b8-2230-4dc9-8b05-d8639dcc3be6"
      },
      "execution_count": 2,
      "outputs": [
        {
          "output_type": "stream",
          "name": "stdout",
          "text": [
            "Hello World\n"
          ]
        }
      ]
    },
    {
      "cell_type": "markdown",
      "source": [
        "Program to find sum of numbers\n"
      ],
      "metadata": {
        "id": "Nqv2HkDr0vp5"
      }
    },
    {
      "cell_type": "code",
      "source": [
        "a=10\n",
        "b=20\n",
        "print(\"The sum is\",a+b)\n"
      ],
      "metadata": {
        "colab": {
          "base_uri": "https://localhost:8080/"
        },
        "id": "NBEdacCM02x6",
        "outputId": "7a84c883-c672-4f2d-875b-a8ceae99ca1a"
      },
      "execution_count": 3,
      "outputs": [
        {
          "output_type": "stream",
          "name": "stdout",
          "text": [
            "The sum is 30\n"
          ]
        }
      ]
    },
    {
      "cell_type": "markdown",
      "source": [
        "Program to find sum of numbers using string"
      ],
      "metadata": {
        "id": "efjBJWfn1FiS"
      }
    },
    {
      "cell_type": "code",
      "source": [
        "a=int(input(\"Enter A :\"))\n",
        "b=int(input(\"Enter B :\"))\n",
        "sum=a+b\n",
        "print(\"The sum of A and B :\",sum)"
      ],
      "metadata": {
        "colab": {
          "base_uri": "https://localhost:8080/"
        },
        "id": "BzRiMf7l1Zgi",
        "outputId": "e2c4ae29-e8a8-4464-ed97-ec25454548e7"
      },
      "execution_count": 5,
      "outputs": [
        {
          "output_type": "stream",
          "name": "stdout",
          "text": [
            "Enter A :21\n",
            "Enter B :12\n",
            "The sum of A and B : 33\n"
          ]
        }
      ]
    }
  ]
}